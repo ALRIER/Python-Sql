{
 "cells": [
  {
   "cell_type": "code",
   "execution_count": null,
   "metadata": {},
   "outputs": [],
   "source": [
    "import mysql.connector\n",
    "from mysql.connector import Error\n",
    "from geopy import Nominatim\n"
   ]
  },
  {
   "cell_type": "code",
   "execution_count": null,
   "metadata": {},
   "outputs": [],
   "source": [
    "def crear_conexion(nombre_host, usuario, contrasena, basedatos):\n",
    "    conexion = None\n",
    "    try:\n",
    "        conexion = mysql.connector.connect(\n",
    "                host = nombre_host,\n",
    "                user = usuario,\n",
    "                passwd = contrasena,\n",
    "                database = basedatos\n",
    "                )\n",
    "        print('Conexión realizada satisfactoriamente')\n",
    "    except Error as e:\n",
    "        print(\"Error al establecer conexión: \",e)\n",
    "    \n",
    "    return conexion\n",
    "\n",
    "\n",
    "def inserta_cliente(con, app):\n",
    "    cursor = con.cursor()\n",
    "    \n",
    "    vnombre = input(\"ingrse su nombre: \")\n",
    "    vaddress= input(\"ingrese su direccion: \")\n",
    "    direccion = app.geocode(vaddress)\n",
    "    \n",
    "    try:\n",
    "        if (direccion != None):\n",
    "            vlatitud = direccion.latitude\n",
    "            vlongitud = direccion.longitude\n",
    "            sql = \"INSERT INTO clientes(nombre,direccion,latitud,longitud) values('\"+vnombre+\"','\"+vaddress+\"',\"+str(vlatitud)+\",\"+str(vlongitud)+\")\"\n",
    "            cursor.execute(sql)\n",
    "            con.commit()\n",
    "        else:\n",
    "            print(\"datos ingresados correctamente\")\n",
    "            \n",
    "    except Error as e:\n",
    "        print(\"se ha presentado un error\",e)\n",
    "\n",
    "con=crear_conexion('34.122.51.150','alvaroriverae','alvaroriverae','alvaroriverae')\n",
    "\n",
    "app = Nominatim(user_agent=\"DE_geo\")\n",
    "continuar = True\n",
    "while (continuar):\n",
    "    inserta_cliente(con, app)\n",
    "    opcion = input ('Deseacontinuar(S/N): ')\n",
    "    if (opcion == 'N'):\n",
    "        continuar= False\n",
    "\n",
    "con.close()"
   ]
  },
  {
   "cell_type": "code",
   "execution_count": null,
   "metadata": {},
   "outputs": [],
   "source": []
  },
  {
   "cell_type": "code",
   "execution_count": null,
   "metadata": {},
   "outputs": [],
   "source": []
  }
 ],
 "metadata": {
  "kernelspec": {
   "display_name": "Python 3",
   "language": "python",
   "name": "python3"
  },
  "language_info": {
   "codemirror_mode": {
    "name": "ipython",
    "version": 3
   },
   "file_extension": ".py",
   "mimetype": "text/x-python",
   "name": "python",
   "nbconvert_exporter": "python",
   "pygments_lexer": "ipython3",
   "version": "3.7.10"
  }
 },
 "nbformat": 4,
 "nbformat_minor": 4
}
