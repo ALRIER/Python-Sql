{
 "cells": [
  {
   "cell_type": "code",
   "execution_count": 1,
   "id": "endangered-equality",
   "metadata": {},
   "outputs": [],
   "source": [
    "import mysql.connector \n",
    "from mysql.connector import Error"
   ]
  },
  {
   "cell_type": "code",
   "execution_count": 2,
   "id": "threaded-format",
   "metadata": {},
   "outputs": [
    {
     "name": "stdout",
     "output_type": "stream",
     "text": [
      "Conexión realizada satisfactoriamente\n"
     ]
    }
   ],
   "source": [
    "def crear_conexion(nombre_host, usuario, contrasena, basedatos):\n",
    "    conexion = None\n",
    "    try:\n",
    "        conexion = mysql.connector.connect(\n",
    "                host = nombre_host,\n",
    "                user = usuario,\n",
    "                passwd = contrasena,\n",
    "                database = basedatos\n",
    "                )\n",
    "        print('Conexión realizada satisfactoriamente')\n",
    "    except Error as e:\n",
    "        print(\"Error al establecer conexión: \",e)\n",
    "    \n",
    "    return conexion\n",
    "\n",
    "conexion=crear_conexion('34.122.51.150','alvaroriverae','alvaroriverae','alvaroriverae')\n"
   ]
  },
  {
   "cell_type": "code",
   "execution_count": 3,
   "id": "talented-attachment",
   "metadata": {},
   "outputs": [],
   "source": [
    "conexion.close()"
   ]
  },
  {
   "cell_type": "code",
   "execution_count": 4,
   "id": "upset-liberal",
   "metadata": {},
   "outputs": [
    {
     "name": "stdout",
     "output_type": "stream",
     "text": [
      "Conexión realizada satisfactoriamente\n",
      "{'id': 1, 'nombres': 'Carmen', 'sexo': 'F', 'fechanacimiento': datetime.date(1980, 12, 30), 'identificacion': '1236985'}\n",
      "{'id': 2, 'nombres': 'Jesus', 'sexo': 'M', 'fechanacimiento': datetime.date(1990, 2, 15), 'identificacion': '1257485369'}\n",
      "{'id': 3, 'nombres': 'Luisa', 'sexo': 'F', 'fechanacimiento': datetime.date(1985, 6, 1), 'identificacion': '1201474100'}\n",
      "{'id': 4, 'nombres': 'Joaquin', 'sexo': 'M', 'fechanacimiento': datetime.date(1982, 3, 12), 'identificacion': '96320582'}\n",
      "{'id': 5, 'nombres': 'Maria', 'sexo': 'F', 'fechanacimiento': datetime.date(1984, 2, 28), 'identificacion': '789325640'}\n",
      "{'id': 6, 'nombres': 'Pedro', 'sexo': 'M', 'fechanacimiento': datetime.date(1987, 7, 6), 'identificacion': '76584239'}\n",
      "{'id': 7, 'nombres': 'Lola', 'sexo': 'F', 'fechanacimiento': datetime.date(1980, 9, 4), 'identificacion': '22222'}\n"
     ]
    }
   ],
   "source": [
    "def crear_conexion(nombre_host, usuario, contrasena, basedatos):\n",
    "    conexion = None\n",
    "    try:\n",
    "        conexion = mysql.connector.connect(\n",
    "                host = nombre_host,\n",
    "                user = usuario,\n",
    "                passwd = contrasena,\n",
    "                database = basedatos\n",
    "                )\n",
    "        print('Conexión realizada satisfactoriamente')\n",
    "    except Error as e:\n",
    "        print(\"Error al establecer conexión: \",e)\n",
    "    \n",
    "    return conexion\n",
    "\n",
    "conexion=crear_conexion('34.122.51.150','alvaroriverae','alvaroriverae','alvaroriverae')\n",
    "\n",
    "if(conexion != None):\n",
    "    cursor = conexion.cursor(dictionary=True)\n",
    "    result = None\n",
    "    try:\n",
    "        cursor.execute(\"SELECT * FROM vendedor\")\n",
    "        result = cursor.fetchall()        \n",
    "    except Error as e:\n",
    "        print(\"Se ha presentado error: \",e)\n",
    "    \n",
    "    for row in result:\n",
    "        print(row)\n",
    "else:\n",
    "    print('No es posible ejecutar la consulta')\n"
   ]
  },
  {
   "cell_type": "code",
   "execution_count": null,
   "id": "russian-wealth",
   "metadata": {},
   "outputs": [],
   "source": [
    "conexion.close()"
   ]
  },
  {
   "cell_type": "code",
   "execution_count": null,
   "id": "brief-huntington",
   "metadata": {},
   "outputs": [],
   "source": [
    "def consulta_registros(tabla):\n",
    "    if(conexion != None):\n",
    "        cursor = conexion.cursor(dictionary=True)\n",
    "        result = None\n",
    "        try:\n",
    "            cursor.execute(\"SELECT * FROM \" + tabla)\n",
    "            result = cursor.fetchall()        \n",
    "        except Error as e:\n",
    "            print(\"Se ha presentado error: \",e)\n",
    "        for row in result:\n",
    "            print(row)\n",
    "    else:\n",
    "        print('No es posible ejecutar la consulta')\n",
    "\n",
    "conexion=crear_conexion('34.122.51.150','alvaroriverae','alvaroriverae','alvaroriverae')\n",
    "\n",
    "consulta_registros('vendedor')\n",
    "consulta_registros('tipoinmueble')\n",
    "consulta_registros('ciudad')"
   ]
  },
  {
   "cell_type": "code",
   "execution_count": null,
   "id": "indirect-secretary",
   "metadata": {},
   "outputs": [],
   "source": [
    "conexion.close()"
   ]
  },
  {
   "cell_type": "code",
   "execution_count": null,
   "id": "optional-marketing",
   "metadata": {},
   "outputs": [],
   "source": [
    "def crear_conexion(nombre_host, usuario, contrasena, basedatos):\n",
    "    conexion = None\n",
    "    try:\n",
    "        conexion = mysql.connector.connect(\n",
    "                host = nombre_host,\n",
    "                user = usuario,\n",
    "                passwd = contrasena,\n",
    "                database = basedatos\n",
    "                )\n",
    "        print('Conexión realizada satisfactoriamente')\n",
    "    except Error as e:\n",
    "        print(\"Error al establecer conexión: \",e)\n",
    "    \n",
    "    return conexion\n",
    "\n",
    "conexion=crear_conexion('34.122.51.150','alvaroriverae','alvaroriverae','alvaroriverae')\n",
    "\n",
    "sql = \"INSERT INTO vendedor(id,nombres,sexo,fechanacimiento,identificacion) values(7,'Lola','F','1980-09-04','22222')\"\n",
    "\n",
    "cursor = conexion.cursor()\n",
    "cursor.execute(sql)\n",
    "conexion.commit()\n",
    "print(\"Registro ingresado satisfactoriamente\")"
   ]
  },
  {
   "cell_type": "code",
   "execution_count": null,
   "id": "tender-newark",
   "metadata": {},
   "outputs": [],
   "source": [
    "conexion.close()"
   ]
  },
  {
   "cell_type": "code",
   "execution_count": null,
   "id": "popular-lightning",
   "metadata": {},
   "outputs": [],
   "source": []
  },
  {
   "cell_type": "code",
   "execution_count": null,
   "id": "decent-family",
   "metadata": {},
   "outputs": [],
   "source": []
  },
  {
   "cell_type": "code",
   "execution_count": null,
   "id": "prepared-shock",
   "metadata": {},
   "outputs": [],
   "source": []
  },
  {
   "cell_type": "code",
   "execution_count": null,
   "id": "acting-weather",
   "metadata": {},
   "outputs": [],
   "source": []
  },
  {
   "cell_type": "code",
   "execution_count": null,
   "id": "searching-google",
   "metadata": {},
   "outputs": [],
   "source": []
  }
 ],
 "metadata": {
  "kernelspec": {
   "display_name": "Python 3",
   "language": "python",
   "name": "python3"
  },
  "language_info": {
   "codemirror_mode": {
    "name": "ipython",
    "version": 3
   },
   "file_extension": ".py",
   "mimetype": "text/x-python",
   "name": "python",
   "nbconvert_exporter": "python",
   "pygments_lexer": "ipython3",
   "version": "3.7.10"
  }
 },
 "nbformat": 4,
 "nbformat_minor": 5
}
