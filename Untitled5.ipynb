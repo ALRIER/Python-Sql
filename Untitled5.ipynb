{
 "cells": [
  {
   "cell_type": "code",
   "execution_count": 2,
   "id": "comparative-father",
   "metadata": {},
   "outputs": [],
   "source": [
    "from geopy import Nominatim\n",
    "app = Nominatim(user_agent=\"DE_geo\")"
   ]
  },
  {
   "cell_type": "code",
   "execution_count": 4,
   "id": "acute-least",
   "metadata": {},
   "outputs": [
    {
     "name": "stdin",
     "output_type": "stream",
     "text": [
      "Digite lugar: Cartagena \n"
     ]
    },
    {
     "name": "stdout",
     "output_type": "stream",
     "text": [
      "Cartagena, Campo de Cartagena y Mar Menor, Región de Murcia, España\n",
      "37.6267868\n",
      "-1.0006184\n"
     ]
    },
    {
     "name": "stdin",
     "output_type": "stream",
     "text": [
      "Desea continuar(s/n):  S\n",
      "Digite lugar: Bogotá\n"
     ]
    },
    {
     "name": "stdout",
     "output_type": "stream",
     "text": [
      "Bogotá, Bogotá Distrito Capital, Región Andina, 11001, Colombia\n",
      "4.6533326\n",
      "-74.083652\n"
     ]
    },
    {
     "name": "stdin",
     "output_type": "stream",
     "text": [
      "Desea continuar(s/n):  s\n",
      "Digite lugar: Bogotá\n"
     ]
    },
    {
     "name": "stdout",
     "output_type": "stream",
     "text": [
      "Bogotá, Bogotá Distrito Capital, Región Andina, 11001, Colombia\n",
      "4.6533326\n",
      "-74.083652\n"
     ]
    },
    {
     "name": "stdin",
     "output_type": "stream",
     "text": [
      "Desea continuar(s/n):  n\n"
     ]
    },
    {
     "name": "stdout",
     "output_type": "stream",
     "text": [
      "Hasta pronto\n"
     ]
    }
   ],
   "source": [
    "continuar=True\n",
    "while(continuar):\n",
    "    lugar = input('Digite lugar:')\n",
    "    direccion = app.geocode(lugar)\n",
    "    if(direccion != None):\n",
    "        print(direccion.address)\n",
    "        print(direccion.latitude)\n",
    "        print(direccion.longitude)\n",
    "    else:\n",
    "        print(\"No encontrado\")\n",
    "    opcion = input('Desea continuar(s/n): ')\n",
    "    if(opcion == 'n'):\n",
    "        continuar = False\n",
    "\n",
    "print('Hasta pronto')"
   ]
  },
  {
   "cell_type": "code",
   "execution_count": 6,
   "id": "equal-sodium",
   "metadata": {},
   "outputs": [
    {
     "name": "stdout",
     "output_type": "stream",
     "text": [
      "Pablo VI, UPZ La Esmeralda, Localidad Teusaquillo, Bogotá, Bogotá Distrito Capital, Región Andina, 111321, Colombia\n"
     ]
    }
   ],
   "source": [
    "direccion = app.reverse(\"4.6533326, -74.083652\")\n",
    "if (direccion != None):\n",
    "    print(direccion.address)\n",
    "else: \n",
    "    print(\"Dato no encontrado\")"
   ]
  },
  {
   "cell_type": "code",
   "execution_count": 7,
   "id": "southwest-frequency",
   "metadata": {},
   "outputs": [],
   "source": [
    "from geopy.geocoders import Nominatim\n",
    "from geopy import distance\n",
    "\n",
    "app = Nominatim(user_agent=\"DEG52\")\n",
    "\n"
   ]
  },
  {
   "cell_type": "code",
   "execution_count": 8,
   "id": "blond-memorial",
   "metadata": {},
   "outputs": [
    {
     "name": "stdout",
     "output_type": "stream",
     "text": [
      "la distancia entre la K y el portal 80 es de8.874049645850413 km\n"
     ]
    }
   ],
   "source": [
    "#obtener lat y lon desde una dirección\n",
    "dir1 = app.geocode(\"Konrad lorenz Colombia\")\n",
    "\n",
    "dir2 = app.geocode(\"portal de la 80 bogota Colombia\")\n",
    "\n",
    "pos1 = (dir1.latitude,dir1.longitude)\n",
    "pos2 = (dir2.latitude,dir2.longitude)\n",
    "\n",
    "distancia = distance.distance(pos1,pos2)\n",
    "print(\"la distancia entre la K y el portal 80 es de\"+ str(distancia))"
   ]
  },
  {
   "cell_type": "code",
   "execution_count": null,
   "id": "obvious-capacity",
   "metadata": {},
   "outputs": [],
   "source": [
    "\n",
    "     "
   ]
  }
 ],
 "metadata": {
  "kernelspec": {
   "display_name": "Python 3",
   "language": "python",
   "name": "python3"
  },
  "language_info": {
   "codemirror_mode": {
    "name": "ipython",
    "version": 3
   },
   "file_extension": ".py",
   "mimetype": "text/x-python",
   "name": "python",
   "nbconvert_exporter": "python",
   "pygments_lexer": "ipython3",
   "version": "3.7.10"
  }
 },
 "nbformat": 4,
 "nbformat_minor": 5
}
