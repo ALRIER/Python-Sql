{
 "cells": [
  {
   "cell_type": "code",
   "execution_count": 1,
   "id": "widespread-southeast",
   "metadata": {},
   "outputs": [],
   "source": [
    "import mysql.connector\n",
    "from mysql.connector import Error"
   ]
  },
  {
   "cell_type": "code",
   "execution_count": 2,
   "id": "continuing-vatican",
   "metadata": {},
   "outputs": [
    {
     "name": "stdout",
     "output_type": "stream",
     "text": [
      "Error al establecer conexión:  1045 (28000): Access denied for user 'alvaroriverae'@'190.24.124.112' (using password: YES)\n"
     ]
    }
   ],
   "source": [
    "def crear_conexion(nombre_host, usuario, contrasena, basedatos):\n",
    "    conexion = None\n",
    "    try:\n",
    "        conexion = mysql.connector.connect(\n",
    "                host = nombre_host,\n",
    "                user = usuario,\n",
    "                passwd = contrasena,\n",
    "                database = basedatos\n",
    "                )\n",
    "        print('Conexión realizada satisfactoriamente')\n",
    "    except Error as e:\n",
    "        print(\"Error al establecer conexión: \",e)\n",
    "    \n",
    "    return conexion\n",
    "\n",
    "conexion=crear_conexion('34.122.51.150','alvaroriverae',' alvaroriverae ',' alvaroriverae')"
   ]
  },
  {
   "cell_type": "code",
   "execution_count": null,
   "id": "rough-stick",
   "metadata": {},
   "outputs": [],
   "source": []
  }
 ],
 "metadata": {
  "kernelspec": {
   "display_name": "Python 3",
   "language": "python",
   "name": "python3"
  },
  "language_info": {
   "codemirror_mode": {
    "name": "ipython",
    "version": 3
   },
   "file_extension": ".py",
   "mimetype": "text/x-python",
   "name": "python",
   "nbconvert_exporter": "python",
   "pygments_lexer": "ipython3",
   "version": "3.7.10"
  }
 },
 "nbformat": 4,
 "nbformat_minor": 5
}
